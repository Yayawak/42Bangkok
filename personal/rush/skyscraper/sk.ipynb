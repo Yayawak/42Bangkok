{
  "nbformat": 4,
  "nbformat_minor": 0,
  "metadata": {
    "colab": {
      "provenance": [],
      "collapsed_sections": []
    },
    "kernelspec": {
      "name": "python3",
      "display_name": "Python 3"
    },
    "language_info": {
      "name": "python"
    }
  },
  "cells": [
    {
      "cell_type": "code",
      "execution_count": null,
      "metadata": {
        "id": "_ssgSC6bO-jc"
      },
      "outputs": [],
      "source": []
    },
    {
      "cell_type": "code",
      "source": [
        "from itertools import permutations\n",
        "\n",
        "clues = [\n",
        "\t2, 2, 1, 3,  \n",
        "\t2, 2, 3, 1,  \n",
        "\t1, 2, 2, 3,  \n",
        "\t3, 2, 1, 3\n",
        "]\n",
        "\n",
        "\"\"\"\n",
        "sol = [\n",
        "\t[1, 3, 4, 2],\n",
        "\t[4, 2, 1, 3],\n",
        "\t[3, 4, 2, 1],\n",
        "\t[2, 1, 3, 4]\n",
        "]\n",
        "\"\"\"\n",
        "def ini_board():\n",
        "\treturn [[0 for i in range(4)] for i in range(4)]\n",
        "\n",
        "def print_board(clues, board):\n",
        "\tprint()\n",
        "\tfor i in range(8):\n",
        "\t\tif i == 0:\n",
        "      # top\n",
        "\t\t\tprint(\"    {} {} {} {}\".format(*clues[:4]))\n",
        "      # down\n",
        "\t\telif i == 7:\n",
        "\t\t\tprint(\"    {} {} {} {}\".format(*clues[7:12][::-1]))\n",
        "\t\telif i == 1 or i == 6:\n",
        "\t\t\tprint(\"   ---------\")\n",
        "\t\telse:\n",
        "\t\t\tprint(\"{} | {} {} {} {} | {}\".format(clues[::-1][i-2],*board[i-2],clues[i+2]))\n",
        "\n"
      ],
      "metadata": {
        "id": "Tr7uTyhEPBdv"
      },
      "execution_count": 34,
      "outputs": []
    },
    {
      "cell_type": "code",
      "source": [
        "\n"
      ],
      "metadata": {
        "colab": {
          "base_uri": "https://localhost:8080/"
        },
        "id": "ns_nynypSD60",
        "outputId": "ed6f126c-59f1-4945-a665-04befc2119b5"
      },
      "execution_count": 33,
      "outputs": [
        {
          "output_type": "stream",
          "name": "stdout",
          "text": [
            "    3 2 2 1\n"
          ]
        }
      ]
    },
    {
      "cell_type": "code",
      "source": [
        "print(\"    {} {} {} {}\".format(*clues[:4]))"
      ],
      "metadata": {
        "colab": {
          "base_uri": "https://localhost:8080/"
        },
        "id": "N8IVs12HRwpz",
        "outputId": "af4dba53-717a-4c10-c495-3ed665058b67"
      },
      "execution_count": 29,
      "outputs": [
        {
          "output_type": "stream",
          "name": "stdout",
          "text": [
            "    2 2 1 3\n"
          ]
        }
      ]
    },
    {
      "cell_type": "code",
      "source": [
        "print_board(clues, ini_board())"
      ],
      "metadata": {
        "colab": {
          "base_uri": "https://localhost:8080/"
        },
        "id": "ZlXhhGdyR1zX",
        "outputId": "7145f093-5e23-4f13-c926-1c852cffce8d"
      },
      "execution_count": 31,
      "outputs": [
        {
          "output_type": "stream",
          "name": "stdout",
          "text": [
            "\n",
            "    2 2 1 3\n",
            "   ---------\n",
            "3 | 0 0 0 0 | 2\n",
            "1 | 0 0 0 0 | 2\n",
            "2 | 0 0 0 0 | 3\n",
            "3 | 0 0 0 0 | 1\n",
            "   ---------\n",
            "    3 2 2 1\n"
          ]
        }
      ]
    },
    {
      "cell_type": "code",
      "source": [
        "ini_board()"
      ],
      "metadata": {
        "colab": {
          "base_uri": "https://localhost:8080/"
        },
        "id": "LZ6MYtyTRobM",
        "outputId": "6d656726-b2fc-439c-ce44-a4b6e0def5a6"
      },
      "execution_count": 35,
      "outputs": [
        {
          "output_type": "execute_result",
          "data": {
            "text/plain": [
              "[[0, 0, 0, 0], [0, 0, 0, 0], [0, 0, 0, 0], [0, 0, 0, 0]]"
            ]
          },
          "metadata": {},
          "execution_count": 35
        }
      ]
    },
    {
      "cell_type": "code",
      "source": [
        "ini_board().copy()"
      ],
      "metadata": {
        "colab": {
          "base_uri": "https://localhost:8080/"
        },
        "id": "u9cxLbRsSX0P",
        "outputId": "a53f64a1-026d-4aaa-eb0c-5a6275e8e18b"
      },
      "execution_count": 38,
      "outputs": [
        {
          "output_type": "execute_result",
          "data": {
            "text/plain": [
              "[[0, 0, 0, 0], [0, 0, 0, 0], [0, 0, 0, 0], [0, 0, 0, 0]]"
            ]
          },
          "metadata": {},
          "execution_count": 38
        }
      ]
    },
    {
      "cell_type": "code",
      "source": [
        "clues"
      ],
      "metadata": {
        "colab": {
          "base_uri": "https://localhost:8080/"
        },
        "id": "NtdPR5dfStBi",
        "outputId": "cc68ab2f-daae-443d-fca2-c3f1d4d1a36f"
      },
      "execution_count": 59,
      "outputs": [
        {
          "output_type": "execute_result",
          "data": {
            "text/plain": [
              "[2, 2, 1, 3, 2, 2, 3, 1, 1, 2, 2, 3, 3, 2, 1, 3]"
            ]
          },
          "metadata": {},
          "execution_count": 59
        }
      ]
    },
    {
      "cell_type": "code",
      "source": [
        "def solved(clues, board):\n",
        "\taux_board = board.copy()\n",
        "\tsolve(clues, aux_board)\n",
        "\treturn aux_board"
      ],
      "metadata": {
        "id": "Ij54urB2WTjs"
      },
      "execution_count": 60,
      "outputs": []
    },
    {
      "cell_type": "code",
      "source": [
        "\n",
        "def solve(clues, board):\n",
        "\tnext = find_empty(board)\n",
        "  # next = (0,0)\n",
        "\tif not next:\n",
        "    # this puzzle is solved!!! \n",
        "\t\treturn True\n",
        "\telse:\n",
        "    # 0, 0\n",
        "\t\trow, col = next # (0, 0)\n",
        "\n",
        "\tfor i in range(1,5): # 1 2 3 4\n",
        "\t\tif valid(clues, board, i, (row,col)):\n",
        "\t\t\tboard[row][col] = i\n",
        "      # recursive\n",
        "\t\t\tif solve(clues, board):\n",
        "\t\t\t\treturn True\n",
        "\t\t\telse:\n",
        "\t\t\t\tboard[row][col] = 0\n",
        "\n",
        "\treturn False\n"
      ],
      "metadata": {
        "id": "ZqoTG6OFRXDS"
      },
      "execution_count": 61,
      "outputs": []
    },
    {
      "cell_type": "code",
      "source": [
        "# is that position remain not fill\n",
        "def find_empty(board):\n",
        "\tfor i in range(len(board)):\n",
        "\t\tfor j in range(len(board)):\n",
        "\t\t\tif board[i][j] == 0:\n",
        "\t\t\t\treturn (i,j)\n",
        "\treturn None"
      ],
      "metadata": {
        "id": "mTJZ3ys2WWeW"
      },
      "execution_count": 62,
      "outputs": []
    },
    {
      "cell_type": "code",
      "source": [
        "b1 = ini_board().copy()\n",
        "find_empty(b1)"
      ],
      "metadata": {
        "colab": {
          "base_uri": "https://localhost:8080/"
        },
        "id": "e620fHrWS0a4",
        "outputId": "18bab7ff-52bf-4bd6-e3a6-48ca437588c7"
      },
      "execution_count": 43,
      "outputs": [
        {
          "output_type": "execute_result",
          "data": {
            "text/plain": [
              "(0, 0)"
            ]
          },
          "metadata": {},
          "execution_count": 43
        }
      ]
    },
    {
      "cell_type": "code",
      "source": [
        "\n",
        "print_board(clues, ini_board())"
      ],
      "metadata": {
        "colab": {
          "base_uri": "https://localhost:8080/"
        },
        "id": "0aDzGjcAUOHS",
        "outputId": "bb37767f-88e1-4166-83f0-77201454bcbe"
      },
      "execution_count": 45,
      "outputs": [
        {
          "output_type": "stream",
          "name": "stdout",
          "text": [
            "\n",
            "    2 2 1 3\n",
            "   ---------\n",
            "3 | 0 0 0 0 | 2\n",
            "1 | 0 0 0 0 | 2\n",
            "2 | 0 0 0 0 | 3\n",
            "3 | 0 0 0 0 | 1\n",
            "   ---------\n",
            "    3 2 2 1\n"
          ]
        }
      ]
    },
    {
      "cell_type": "code",
      "source": [
        "[0, 1, 2, 2].count(0)"
      ],
      "metadata": {
        "colab": {
          "base_uri": "https://localhost:8080/"
        },
        "id": "a_3Wg6qzUebW",
        "outputId": "5af3813a-9eda-490c-bb31-cae858df4f56"
      },
      "execution_count": 49,
      "outputs": [
        {
          "output_type": "execute_result",
          "data": {
            "text/plain": [
              "1"
            ]
          },
          "metadata": {},
          "execution_count": 49
        }
      ]
    },
    {
      "cell_type": "code",
      "source": [
        "clues"
      ],
      "metadata": {
        "colab": {
          "base_uri": "https://localhost:8080/"
        },
        "id": "ipF80FB-VSP7",
        "outputId": "0dd03752-227d-40df-aaad-20c10cb8ab4d"
      },
      "execution_count": 51,
      "outputs": [
        {
          "output_type": "execute_result",
          "data": {
            "text/plain": [
              "[2, 2, 1, 3, 2, 2, 3, 1, 1, 2, 2, 3, 3, 2, 1, 3]"
            ]
          },
          "metadata": {},
          "execution_count": 51
        }
      ]
    },
    {
      "cell_type": "code",
      "source": [
        "(0, 0)[1]"
      ],
      "metadata": {
        "colab": {
          "base_uri": "https://localhost:8080/"
        },
        "id": "Ldw-RTR3VUeS",
        "outputId": "79ba39de-0290-4451-ec0e-b50b1c1d579b"
      },
      "execution_count": 54,
      "outputs": [
        {
          "output_type": "execute_result",
          "data": {
            "text/plain": [
              "0"
            ]
          },
          "metadata": {},
          "execution_count": 54
        }
      ]
    },
    {
      "cell_type": "code",
      "source": [
        "[0, 0][1]"
      ],
      "metadata": {
        "colab": {
          "base_uri": "https://localhost:8080/"
        },
        "id": "Re623_6RVc26",
        "outputId": "f327ca57-0947-4aa2-b714-e373a10a4f6d"
      },
      "execution_count": 55,
      "outputs": [
        {
          "output_type": "execute_result",
          "data": {
            "text/plain": [
              "0"
            ]
          },
          "metadata": {},
          "execution_count": 55
        }
      ]
    },
    {
      "cell_type": "code",
      "source": [
        "# num = 1\n",
        "def valid(clues, board, num, pos):\n",
        "  # for i in range(4):\n",
        "  #   if i == pos[1]:\n",
        "  #     return num\n",
        "  #   else:\n",
        "  #     board[pos[0]][i]\n",
        "  #[num if i == pos[1] else board[pos[0]][i] for i in range(4)]\n",
        "\trow = [num if i == pos[1] else board[pos[0]][i] for i in range(4)]\n",
        "  # [0,0,0,0]\n",
        "  # \n",
        "\tcol = [num if i == pos[0] else board[i][pos[1]] for i in range(4)]\n",
        "  # [0,0,0,0]\n",
        "\n",
        "\t# Check if num is not repeated in the row\n",
        "  # [0,0,0,0].count(1) > 1 ?\n",
        "\tif row.count(num) > 1:\n",
        "\t\treturn False\n",
        "\n",
        "\t# Check if num is not repeated in the column\n",
        "\tif col.count(num) > 1:\n",
        "\t\treturn False\n",
        "\t\n",
        "\t# Check if num satisfy the top clue\n",
        "  # clue = clues[0]\n",
        "  # clue = 2\n",
        "\tclue = clues[pos[1]]\n",
        "\tif (clue != 0) and (clue not in get_possible_clues_of_incompleted_row(col)):\n",
        "\t\treturn False\n",
        "\n",
        "\t# Check if num satisfy the right clue\n",
        "\tclue = clues[pos[0]+4]\n",
        "\tif  clue != 0 and clue not in get_possible_clues_of_incompleted_row(row[::-1]):\n",
        "\t\treturn False\n",
        "\n",
        "\t# Check if num satisfy the bot clue\n",
        "\tclue = clues[::-1][pos[1]+4]\n",
        "\tif clue != 0 and clue not in get_possible_clues_of_incompleted_row(col[::-1]):\n",
        "\t\treturn False\n",
        "\n",
        "\t# Check if num satisfy the left clue\n",
        "\tclue = clues[::-1][pos[0]]\n",
        "\tif  clue != 0 and clue not in get_possible_clues_of_incompleted_row(row):\n",
        "\t\treturn False\n",
        "\t\n",
        "\treturn True\n"
      ],
      "metadata": {
        "id": "ZkKjAMcVRZ2C"
      },
      "execution_count": 19,
      "outputs": []
    },
    {
      "cell_type": "code",
      "source": [
        "def get_clue_of_completed_row(row):\n",
        "\tv = 0\n",
        "\tm = 0\n",
        "\tfor x in row:\n",
        "\t\tif m < x:\n",
        "\t\t\tv += 1\n",
        "\t\tm = max(m, x)\n",
        "\treturn v\n"
      ],
      "metadata": {
        "id": "LQhVB1pzRThm"
      },
      "execution_count": 74,
      "outputs": []
    },
    {
      "cell_type": "code",
      "source": [
        "get_clue_of_completed_row([1, 4, 0, 3])"
      ],
      "metadata": {
        "colab": {
          "base_uri": "https://localhost:8080/"
        },
        "id": "QVEJi-YYWuFF",
        "outputId": "dbc87fb3-9229-41b0-aae8-3605cae920ec"
      },
      "execution_count": 76,
      "outputs": [
        {
          "output_type": "execute_result",
          "data": {
            "text/plain": [
              "2"
            ]
          },
          "metadata": {},
          "execution_count": 76
        }
      ]
    },
    {
      "cell_type": "code",
      "source": [
        "def get_possible_clues_of_incompleted_row(incompleted_row):\n",
        "\tpossible_rows = []\n",
        "\n",
        "\td = list(set([1,2,3,4]) - set([x for x in incompleted_row if x != 0]))\n",
        "\n",
        "\tfor perm in permutations(d):\n",
        "\t\trow = incompleted_row.copy()\n",
        "\t\tfor e in perm:\n",
        "\t\t\trow[row.index(0)] = e\n",
        "\n",
        "\t\tpossible_rows.append(row)\n",
        "\tpossible_clues = set()\n",
        "\n",
        "  \n",
        "\tfor r in possible_rows:\n",
        "\t\tpossible_clues.add(get_clue_of_completed_row(r))\n",
        "\treturn list(possible_clues)"
      ],
      "metadata": {
        "id": "kPSgYIGjWbT5"
      },
      "execution_count": null,
      "outputs": []
    },
    {
      "cell_type": "code",
      "source": [
        "get_possible_clues_of_incompleted_row([0, 0, 0, 0])"
      ],
      "metadata": {
        "colab": {
          "base_uri": "https://localhost:8080/"
        },
        "id": "81DAYB5wV5gI",
        "outputId": "4f05c882-6af4-4296-b2fd-5e226a85c588"
      },
      "execution_count": 69,
      "outputs": [
        {
          "output_type": "execute_result",
          "data": {
            "text/plain": [
              "[1, 2, 3, 4]"
            ]
          },
          "metadata": {},
          "execution_count": 69
        }
      ]
    },
    {
      "cell_type": "code",
      "source": [
        "get_possible_clues_of_incompleted_row([1, 0, 2, 3])"
      ],
      "metadata": {
        "colab": {
          "base_uri": "https://localhost:8080/"
        },
        "id": "gVXXPi-gWnPm",
        "outputId": "5d2eeedb-b5b4-47ac-c848-61d92a1f1566"
      },
      "execution_count": 73,
      "outputs": [
        {
          "output_type": "execute_result",
          "data": {
            "text/plain": [
              "[2]"
            ]
          },
          "metadata": {},
          "execution_count": 73
        }
      ]
    },
    {
      "cell_type": "code",
      "source": [
        "get_possible_clues_of_incompleted_row([0, 3, 0, 0])"
      ],
      "metadata": {
        "colab": {
          "base_uri": "https://localhost:8080/"
        },
        "id": "geYcdx60WdGe",
        "outputId": "1b114717-7bb1-49ba-da60-b93cc998294f"
      },
      "execution_count": 66,
      "outputs": [
        {
          "output_type": "execute_result",
          "data": {
            "text/plain": [
              "[1, 3]"
            ]
          },
          "metadata": {},
          "execution_count": 66
        }
      ]
    },
    {
      "cell_type": "code",
      "source": [
        "get_possible_clues_of_incompleted_row([0, 3, 4, 0])"
      ],
      "metadata": {
        "colab": {
          "base_uri": "https://localhost:8080/"
        },
        "id": "CV-j6tgRWgvN",
        "outputId": "7e1b3244-c483-41d1-db6a-c612f6edf1e7"
      },
      "execution_count": 68,
      "outputs": [
        {
          "output_type": "execute_result",
          "data": {
            "text/plain": [
              "[3]"
            ]
          },
          "metadata": {},
          "execution_count": 68
        }
      ]
    },
    {
      "cell_type": "code",
      "source": [
        "ini_board()"
      ],
      "metadata": {
        "colab": {
          "base_uri": "https://localhost:8080/"
        },
        "id": "r4wtO1-2RJ_h",
        "outputId": "f4b6a97e-45f5-4b4b-b072-1c3a055cbdd6"
      },
      "execution_count": 13,
      "outputs": [
        {
          "output_type": "execute_result",
          "data": {
            "text/plain": [
              "[[0, 0, 0, 0], [0, 0, 0, 0], [0, 0, 0, 0], [0, 0, 0, 0]]"
            ]
          },
          "metadata": {},
          "execution_count": 13
        }
      ]
    },
    {
      "cell_type": "code",
      "source": [
        "\n",
        "print_board(clues, ini_board())"
      ],
      "metadata": {
        "colab": {
          "base_uri": "https://localhost:8080/"
        },
        "id": "_iQVnTzbPCAi",
        "outputId": "675b0fac-852d-48a0-e96b-8dbc77db51f9"
      },
      "execution_count": 10,
      "outputs": [
        {
          "output_type": "stream",
          "name": "stdout",
          "text": [
            "\n",
            "    2 2 1 3\n",
            "   ---------\n",
            "3 | 0 0 0 0 | 2\n",
            "1 | 0 0 0 0 | 2\n",
            "2 | 0 0 0 0 | 3\n",
            "3 | 0 0 0 0 | 1\n",
            "   ---------\n",
            "    3 2 2 1\n"
          ]
        }
      ]
    },
    {
      "cell_type": "code",
      "source": [
        "print_board(clues, solved(clues, ini_board()))"
      ],
      "metadata": {
        "colab": {
          "base_uri": "https://localhost:8080/"
        },
        "id": "yU1yrOa7P3LO",
        "outputId": "f29bbf97-08dd-4e27-f37b-a18780da5afd"
      },
      "execution_count": 11,
      "outputs": [
        {
          "output_type": "stream",
          "name": "stdout",
          "text": [
            "\n",
            "    2 2 1 3\n",
            "   ---------\n",
            "3 | 1 3 4 2 | 2\n",
            "1 | 4 2 1 3 | 2\n",
            "2 | 3 4 2 1 | 3\n",
            "3 | 2 1 3 4 | 1\n",
            "   ---------\n",
            "    3 2 2 1\n"
          ]
        }
      ]
    },
    {
      "cell_type": "code",
      "source": [],
      "metadata": {
        "id": "X5lGDKoJRGOX"
      },
      "execution_count": null,
      "outputs": []
    }
  ]
}