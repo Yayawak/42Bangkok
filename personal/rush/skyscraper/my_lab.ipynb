{
  "nbformat": 4,
  "nbformat_minor": 0,
  "metadata": {
    "colab": {
      "provenance": []
    },
    "kernelspec": {
      "name": "python3",
      "display_name": "Python 3"
    },
    "language_info": {
      "name": "python"
    }
  },
  "cells": [
    {
      "cell_type": "code",
      "execution_count": null,
      "metadata": {
        "id": "wz0cno2VnBs9"
      },
      "outputs": [],
      "source": [
        "import numpy as np"
      ]
    },
    {
      "cell_type": "code",
      "source": [
        "import matplotlib.pyplot as plt"
      ],
      "metadata": {
        "id": "XWP_QNSxnFRp"
      },
      "execution_count": null,
      "outputs": []
    },
    {
      "cell_type": "code",
      "source": [
        "n = 4"
      ],
      "metadata": {
        "id": "gsBpj5TonpRx"
      },
      "execution_count": null,
      "outputs": []
    },
    {
      "cell_type": "code",
      "source": [
        "grid = np.zeros([n+2, n+2], dtype=int)\n",
        "grid"
      ],
      "metadata": {
        "colab": {
          "base_uri": "https://localhost:8080/"
        },
        "id": "21GlBefMnJpc",
        "outputId": "47d7ae7a-cf1a-4820-86ee-28bfe702a1aa"
      },
      "execution_count": null,
      "outputs": [
        {
          "output_type": "execute_result",
          "data": {
            "text/plain": [
              "array([[0, 0, 0, 0, 0, 0],\n",
              "       [0, 0, 0, 0, 0, 0],\n",
              "       [0, 0, 0, 0, 0, 0],\n",
              "       [0, 0, 0, 0, 0, 0],\n",
              "       [0, 0, 0, 0, 0, 0],\n",
              "       [0, 0, 0, 0, 0, 0]])"
            ]
          },
          "metadata": {},
          "execution_count": 38
        }
      ]
    },
    {
      "cell_type": "code",
      "source": [
        "    #.       top.       down.      left.         right\n",
        "input_argv = \"4 2 1 2 \" + \"1 2 4 2 \" + \"3 2 2 1 \" + \"2 3 1 2\"\n",
        "input_argv"
      ],
      "metadata": {
        "id": "jF3kpTiHngAa",
        "colab": {
          "base_uri": "https://localhost:8080/",
          "height": 35
        },
        "outputId": "be7452d9-d183-4b32-e169-1006575bfb54"
      },
      "execution_count": null,
      "outputs": [
        {
          "output_type": "execute_result",
          "data": {
            "text/plain": [
              "'4 2 1 2 1 2 4 2 3 2 2 1 2 3 1 2'"
            ],
            "application/vnd.google.colaboratory.intrinsic+json": {
              "type": "string"
            }
          },
          "metadata": {},
          "execution_count": 11
        }
      ]
    },
    {
      "cell_type": "code",
      "source": [
        "input_argv.split()\n",
        "input_int = np.array([int(x) for x in input_argv.split()])\n",
        "input_int"
      ],
      "metadata": {
        "id": "JpthzlLzOlTc",
        "colab": {
          "base_uri": "https://localhost:8080/"
        },
        "outputId": "7c987d65-b8fa-4ebb-8582-727377d10a8c"
      },
      "execution_count": null,
      "outputs": [
        {
          "output_type": "execute_result",
          "data": {
            "text/plain": [
              "array([4, 2, 1, 2, 1, 2, 4, 2, 3, 2, 2, 1, 2, 3, 1, 2])"
            ]
          },
          "metadata": {},
          "execution_count": 16
        }
      ]
    },
    {
      "cell_type": "code",
      "source": [
        "input_int.shape"
      ],
      "metadata": {
        "colab": {
          "base_uri": "https://localhost:8080/"
        },
        "id": "dh2qkzSoZKq5",
        "outputId": "634ae0d5-e454-4b47-ade4-36be9a1b1364"
      },
      "execution_count": null,
      "outputs": [
        {
          "output_type": "execute_result",
          "data": {
            "text/plain": [
              "(16,)"
            ]
          },
          "metadata": {},
          "execution_count": 18
        }
      ]
    },
    {
      "cell_type": "code",
      "source": [
        "matrix_input = input_int.reshape([4,4])\n",
        "matrix_input"
      ],
      "metadata": {
        "colab": {
          "base_uri": "https://localhost:8080/"
        },
        "id": "qMhJ0tIGYXfP",
        "outputId": "9110bf12-0481-464f-8b29-a7e7e2e52a49"
      },
      "execution_count": null,
      "outputs": [
        {
          "output_type": "execute_result",
          "data": {
            "text/plain": [
              "array([[4, 2, 1, 2],\n",
              "       [1, 2, 4, 2],\n",
              "       [3, 2, 2, 1],\n",
              "       [2, 3, 1, 2]])"
            ]
          },
          "metadata": {},
          "execution_count": 20
        }
      ]
    },
    {
      "cell_type": "code",
      "source": [
        "matrix_input[0]"
      ],
      "metadata": {
        "colab": {
          "base_uri": "https://localhost:8080/"
        },
        "id": "6edvWs5JZSGs",
        "outputId": "2ea4ddae-efab-41b0-99d6-d4c0b503ba91"
      },
      "execution_count": null,
      "outputs": [
        {
          "output_type": "execute_result",
          "data": {
            "text/plain": [
              "array([4, 2, 1, 2])"
            ]
          },
          "metadata": {},
          "execution_count": 21
        }
      ]
    },
    {
      "cell_type": "code",
      "source": [
        "matrix_input[0][0]"
      ],
      "metadata": {
        "colab": {
          "base_uri": "https://localhost:8080/"
        },
        "id": "Ay1ngp6LZa53",
        "outputId": "9900dca9-6616-4295-901e-b03169ae24de"
      },
      "execution_count": null,
      "outputs": [
        {
          "output_type": "execute_result",
          "data": {
            "text/plain": [
              "4"
            ]
          },
          "metadata": {},
          "execution_count": 22
        }
      ]
    },
    {
      "cell_type": "code",
      "source": [
        "grid"
      ],
      "metadata": {
        "colab": {
          "base_uri": "https://localhost:8080/"
        },
        "id": "fiXSyUNzZfjz",
        "outputId": "ae8c9ca8-ed8e-487e-d9ff-6f9ce17b8425"
      },
      "execution_count": null,
      "outputs": [
        {
          "output_type": "execute_result",
          "data": {
            "text/plain": [
              "array([[0, 0, 0, 0, 0, 0],\n",
              "       [0, 0, 0, 0, 0, 0],\n",
              "       [0, 0, 0, 0, 0, 0],\n",
              "       [0, 0, 0, 0, 0, 0],\n",
              "       [0, 0, 0, 0, 0, 0],\n",
              "       [0, 0, 0, 0, 0, 0]])"
            ]
          },
          "metadata": {},
          "execution_count": 39
        }
      ]
    },
    {
      "cell_type": "code",
      "source": [
        "grid_fill = grid.copy()\n",
        "grid_fill[0]"
      ],
      "metadata": {
        "colab": {
          "base_uri": "https://localhost:8080/"
        },
        "id": "o6RIUx2PaPxx",
        "outputId": "c3294524-83c9-424d-c2d4-72aa5aaff7d3"
      },
      "execution_count": null,
      "outputs": [
        {
          "output_type": "execute_result",
          "data": {
            "text/plain": [
              "array([0, 0, 0, 0, 0, 0])"
            ]
          },
          "metadata": {},
          "execution_count": 67
        }
      ]
    },
    {
      "cell_type": "code",
      "source": [
        "\n",
        "grid"
      ],
      "metadata": {
        "colab": {
          "base_uri": "https://localhost:8080/"
        },
        "id": "QCgeBz5dZp-3",
        "outputId": "876595ff-d63a-45fd-d462-4e57ba3c9d32"
      },
      "execution_count": null,
      "outputs": [
        {
          "output_type": "execute_result",
          "data": {
            "text/plain": [
              "array([[0, 0, 0, 0, 0, 0],\n",
              "       [0, 0, 0, 0, 0, 0],\n",
              "       [0, 0, 0, 0, 0, 0],\n",
              "       [0, 0, 0, 0, 0, 0],\n",
              "       [0, 0, 0, 0, 0, 0],\n",
              "       [0, 0, 0, 0, 0, 0]])"
            ]
          },
          "metadata": {},
          "execution_count": 68
        }
      ]
    },
    {
      "cell_type": "code",
      "source": [
        "grid_fill[0][1:-1] = matrix_input[0]\n"
      ],
      "metadata": {
        "id": "c4-RU9iybH8c"
      },
      "execution_count": null,
      "outputs": []
    },
    {
      "cell_type": "code",
      "source": [
        "grid_fill[3+2][1:-1] = matrix_input[1]\n",
        "grid_fill\n"
      ],
      "metadata": {
        "colab": {
          "base_uri": "https://localhost:8080/"
        },
        "id": "5liq4x9IZ6YB",
        "outputId": "28629d7b-d270-48b5-9f7f-298643beab26"
      },
      "execution_count": null,
      "outputs": [
        {
          "output_type": "execute_result",
          "data": {
            "text/plain": [
              "array([[0, 4, 2, 1, 2, 0],\n",
              "       [0, 0, 0, 0, 0, 0],\n",
              "       [0, 0, 0, 0, 0, 0],\n",
              "       [0, 0, 0, 0, 0, 0],\n",
              "       [0, 0, 0, 0, 0, 0],\n",
              "       [0, 1, 2, 4, 2, 0]])"
            ]
          },
          "metadata": {},
          "execution_count": 70
        }
      ]
    },
    {
      "cell_type": "code",
      "source": [
        "grid_fill"
      ],
      "metadata": {
        "colab": {
          "base_uri": "https://localhost:8080/"
        },
        "id": "yCxrqfJrbvdQ",
        "outputId": "fa70822d-c8c2-4936-fab3-ad64a328ad4c"
      },
      "execution_count": null,
      "outputs": [
        {
          "output_type": "execute_result",
          "data": {
            "text/plain": [
              "array([[0, 4, 2, 1, 2, 0],\n",
              "       [0, 0, 0, 0, 0, 0],\n",
              "       [0, 0, 0, 0, 0, 0],\n",
              "       [0, 0, 0, 0, 0, 0],\n",
              "       [0, 0, 0, 0, 0, 0],\n",
              "       [0, 1, 2, 4, 2, 0]])"
            ]
          },
          "metadata": {},
          "execution_count": 71
        }
      ]
    },
    {
      "cell_type": "code",
      "source": [
        "matrix_input[2]\n",
        "# grid_fill[3+2][1:-1] = matrix_input[1]"
      ],
      "metadata": {
        "colab": {
          "base_uri": "https://localhost:8080/"
        },
        "id": "tLv54oz7bNyf",
        "outputId": "c92b3ef8-3707-4718-d67d-b00b634667b6"
      },
      "execution_count": null,
      "outputs": [
        {
          "output_type": "execute_result",
          "data": {
            "text/plain": [
              "array([3, 2, 2, 1])"
            ]
          },
          "metadata": {},
          "execution_count": 72
        }
      ]
    },
    {
      "cell_type": "code",
      "source": [
        "grid_fill[1:-1, 0] = matrix_input[2]\n",
        "grid_fill"
      ],
      "metadata": {
        "colab": {
          "base_uri": "https://localhost:8080/"
        },
        "id": "ljHLowzyagb1",
        "outputId": "98c8a1eb-feeb-4a10-844d-2a3f9c706bcd"
      },
      "execution_count": null,
      "outputs": [
        {
          "output_type": "execute_result",
          "data": {
            "text/plain": [
              "array([[0, 4, 2, 1, 2, 0],\n",
              "       [3, 0, 0, 0, 0, 0],\n",
              "       [2, 0, 0, 0, 0, 0],\n",
              "       [2, 0, 0, 0, 0, 0],\n",
              "       [1, 0, 0, 0, 0, 0],\n",
              "       [0, 1, 2, 4, 2, 0]])"
            ]
          },
          "metadata": {},
          "execution_count": 73
        }
      ]
    },
    {
      "cell_type": "code",
      "source": [
        "grid_fill[1:-1, 5] = matrix_input[3]\n",
        "grid_fill"
      ],
      "metadata": {
        "colab": {
          "base_uri": "https://localhost:8080/"
        },
        "id": "tRT6JJB0blXZ",
        "outputId": "3520f53e-051c-4e83-9349-5ef994376e9b"
      },
      "execution_count": null,
      "outputs": [
        {
          "output_type": "execute_result",
          "data": {
            "text/plain": [
              "array([[0, 4, 2, 1, 2, 0],\n",
              "       [3, 0, 0, 0, 0, 2],\n",
              "       [2, 0, 0, 0, 0, 3],\n",
              "       [2, 0, 0, 0, 0, 1],\n",
              "       [1, 0, 0, 0, 0, 2],\n",
              "       [0, 1, 2, 4, 2, 0]])"
            ]
          },
          "metadata": {},
          "execution_count": 74
        }
      ]
    },
    {
      "cell_type": "code",
      "source": [
        "gf = grid_fill.copy()\n",
        "      #check_case(row, col)\n",
        "n = 4\n",
        "#for row in range(n+2):\n",
        "for row in range(0):\n",
        "  for col in range(n+2):\n",
        "    if (row == 0 or row == 5 or col == 0 or col == 5):\n",
        "      print(f\"\\\"{row}, {col}\\\"\", end=\" \")\n",
        "      #print(\"[#, #]\", end=\" \")\n",
        "      continue\n",
        "    else:\n",
        "      if (gf[row, col] == 1):\n",
        "        gf[row + 1, col] = 4\n",
        "      print([row,col], end=\" \")\n",
        "  print(\"\\n\")"
      ],
      "metadata": {
        "id": "zqIWKr3YcIQG"
      },
      "execution_count": null,
      "outputs": []
    },
    {
      "cell_type": "code",
      "source": [
        "gf"
      ],
      "metadata": {
        "colab": {
          "base_uri": "https://localhost:8080/"
        },
        "id": "1gS9G1Imchru",
        "outputId": "00e52312-534a-4600-df9f-cea89ea9d8c3"
      },
      "execution_count": null,
      "outputs": [
        {
          "output_type": "execute_result",
          "data": {
            "text/plain": [
              "array([[0, 4, 2, 1, 2, 0],\n",
              "       [3, 0, 0, 0, 0, 2],\n",
              "       [2, 0, 0, 0, 0, 3],\n",
              "       [2, 0, 0, 0, 0, 1],\n",
              "       [1, 0, 0, 0, 0, 2],\n",
              "       [0, 1, 2, 4, 2, 0]])"
            ]
          },
          "metadata": {},
          "execution_count": 102
        }
      ]
    },
    {
      "cell_type": "code",
      "source": [
        "from itertools import permutations, product, combinations"
      ],
      "metadata": {
        "id": "fK2Ew_G5fSTT"
      },
      "execution_count": null,
      "outputs": []
    },
    {
      "cell_type": "code",
      "source": [
        "for i, val in enumerate(permutations([1,2,3,4])):\n",
        "  print(i + 1, val)\n",
        "# f\n",
        "# 2: t\n",
        "# 3 :t\n",
        "# 4 : t\n",
        "# 5 : f\n",
        "# 6 : f\n",
        "# 7 : t\n",
        "# 8 : f\n",
        "# 9 : t\n",
        "# 10: t\n",
        "# 11: f\n",
        "# 12: f\n",
        "# 13: f\n",
        "# 14: f\n",
        "# 15: f\n",
        "# 16: f\n",
        "# 17: f\n",
        "# 18: f\n",
        "# 19: f\n",
        "# .... 24: f\n"
      ],
      "metadata": {
        "colab": {
          "base_uri": "https://localhost:8080/"
        },
        "id": "t6sC-xL6DbT6",
        "outputId": "d35863e3-89ed-4cfe-8cb4-77626a2ef8a6"
      },
      "execution_count": null,
      "outputs": [
        {
          "output_type": "stream",
          "name": "stdout",
          "text": [
            "1 (1, 2, 3, 4)\n",
            "2 (1, 2, 4, 3)\n",
            "3 (1, 3, 2, 4)\n",
            "4 (1, 3, 4, 2)\n",
            "5 (1, 4, 2, 3)\n",
            "6 (1, 4, 3, 2)\n",
            "7 (2, 1, 3, 4)\n",
            "8 (2, 1, 4, 3)\n",
            "9 (2, 3, 1, 4)\n",
            "10 (2, 3, 4, 1)\n",
            "11 (2, 4, 1, 3)\n",
            "12 (2, 4, 3, 1)\n",
            "13 (3, 1, 2, 4)\n",
            "14 (3, 1, 4, 2)\n",
            "15 (3, 2, 1, 4)\n",
            "16 (3, 2, 4, 1)\n",
            "17 (3, 4, 1, 2)\n",
            "18 (3, 4, 2, 1)\n",
            "19 (4, 1, 2, 3)\n",
            "20 (4, 1, 3, 2)\n",
            "21 (4, 2, 1, 3)\n",
            "22 (4, 2, 3, 1)\n",
            "23 (4, 3, 1, 2)\n",
            "24 (4, 3, 2, 1)\n"
          ]
        }
      ]
    },
    {
      "cell_type": "code",
      "source": [
        "tower_heights = [-1, 1, 2, 3, 4]\n",
        "aph = list(permutations(tower_heights))\n",
        "aph = np.array(aph)\n",
        "aph.shape"
      ],
      "metadata": {
        "colab": {
          "base_uri": "https://localhost:8080/"
        },
        "id": "sfGmHIUxlqv9",
        "outputId": "e445a39f-3577-47f3-b3b6-8ac27fcb4fdf"
      },
      "execution_count": null,
      "outputs": [
        {
          "output_type": "execute_result",
          "data": {
            "text/plain": [
              "(120, 5)"
            ]
          },
          "metadata": {},
          "execution_count": 144
        }
      ]
    },
    {
      "cell_type": "code",
      "source": [
        "list(combinations([1, 2, 3], 2))"
      ],
      "metadata": {
        "colab": {
          "base_uri": "https://localhost:8080/"
        },
        "id": "lkW-WSLUq3bS",
        "outputId": "710328bc-f317-4043-e8b8-6c3b8f27288b"
      },
      "execution_count": null,
      "outputs": [
        {
          "output_type": "execute_result",
          "data": {
            "text/plain": [
              "[(1, 2), (1, 3), (2, 3)]"
            ]
          },
          "metadata": {},
          "execution_count": 148
        }
      ]
    },
    {
      "cell_type": "code",
      "source": [
        "aph[:5].tolist()[0]"
      ],
      "metadata": {
        "colab": {
          "base_uri": "https://localhost:8080/"
        },
        "id": "wP20veFvrIAl",
        "outputId": "99b1d1e5-11a4-4855-dd58-83a90b4f07b4"
      },
      "execution_count": null,
      "outputs": [
        {
          "output_type": "execute_result",
          "data": {
            "text/plain": [
              "[-1, 1, 2, 3, 4]"
            ]
          },
          "metadata": {},
          "execution_count": 151
        }
      ]
    },
    {
      "cell_type": "markdown",
      "source": [],
      "metadata": {
        "id": "Ay-NvTWorxlQ"
      }
    },
    {
      "cell_type": "code",
      "source": [
        "list(combinations(aph[:5].tolist()[0], 4))"
      ],
      "metadata": {
        "colab": {
          "base_uri": "https://localhost:8080/"
        },
        "id": "rWFmn1dhqeLo",
        "outputId": "adb3b39c-b5e8-4e5a-95bb-f1158862bc4f"
      },
      "execution_count": null,
      "outputs": [
        {
          "output_type": "execute_result",
          "data": {
            "text/plain": [
              "[(-1, 1, 2, 3), (-1, 1, 2, 4), (-1, 1, 3, 4), (-1, 2, 3, 4), (1, 2, 3, 4)]"
            ]
          },
          "metadata": {},
          "execution_count": 154
        }
      ]
    },
    {
      "cell_type": "code",
      "source": [
        "aph[:3]"
      ],
      "metadata": {
        "colab": {
          "base_uri": "https://localhost:8080/"
        },
        "id": "fMjFIywFmQAm",
        "outputId": "0077f5db-d66e-4a34-86a8-fa351a6faa24"
      },
      "execution_count": null,
      "outputs": [
        {
          "output_type": "execute_result",
          "data": {
            "text/plain": [
              "array([[-1,  1,  2,  3,  4],\n",
              "       [-1,  1,  2,  4,  3],\n",
              "       [-1,  1,  3,  2,  4]])"
            ]
          },
          "metadata": {},
          "execution_count": 114
        }
      ]
    },
    {
      "cell_type": "code",
      "source": [
        "view_heights = [1, 2, 3, 4]\n",
        "vh = np.array(list(product(view_heights, repeat=2)))\n",
        "vh.shape"
      ],
      "metadata": {
        "colab": {
          "base_uri": "https://localhost:8080/"
        },
        "id": "UtPPEq2kltGC",
        "outputId": "a5fd513e-bee7-469a-d69e-fa813cbc3744"
      },
      "execution_count": null,
      "outputs": [
        {
          "output_type": "execute_result",
          "data": {
            "text/plain": [
              "(16, 2)"
            ]
          },
          "metadata": {},
          "execution_count": 119
        }
      ]
    },
    {
      "cell_type": "code",
      "source": [
        "# 1. base case : fixed case : manual case \n",
        "# 2. while (all grid is not filled):\n",
        "        # check_and_fill()\n",
        "\n",
        "        # if all grid is filled \n",
        "            # break;"
      ],
      "metadata": {
        "id": "tKg6Y7BsmkVH"
      },
      "execution_count": null,
      "outputs": []
    },
    {
      "cell_type": "code",
      "source": [
        "# 1. base case : fixed case : manual case \n",
        "# 2. check_and_fill() {\n",
        "    #      check_and_fill()\n",
        "    #.     if (fill_all_grid)\n",
        "#.          return;\n",
        "#}\n"
      ],
      "metadata": {
        "id": "9L5nUAICoy6F"
      },
      "execution_count": null,
      "outputs": []
    },
    {
      "cell_type": "code",
      "source": [
        "# def check(v1, v2, arr):\n"
      ],
      "metadata": {
        "id": "pI-i0X3HpRGI"
      },
      "execution_count": null,
      "outputs": []
    },
    {
      "cell_type": "code",
      "source": [
        "# aph\n",
        "# vh"
      ],
      "metadata": {
        "id": "BTwOpXBLpitr"
      },
      "execution_count": null,
      "outputs": []
    },
    {
      "cell_type": "code",
      "source": [
        "5*4*3*2"
      ],
      "metadata": {
        "colab": {
          "base_uri": "https://localhost:8080/"
        },
        "id": "-t1M1C84pu_i",
        "outputId": "f53a8c9d-bd61-4d58-da93-81db43be2e72"
      },
      "execution_count": null,
      "outputs": [
        {
          "output_type": "execute_result",
          "data": {
            "text/plain": [
              "120"
            ]
          },
          "metadata": {},
          "execution_count": 129
        }
      ]
    },
    {
      "cell_type": "code",
      "source": [
        "  16 * 120"
      ],
      "metadata": {
        "colab": {
          "base_uri": "https://localhost:8080/"
        },
        "id": "mttES6u5pjSa",
        "outputId": "8353b8e9-ab23-4467-959a-905c651726b6"
      },
      "execution_count": null,
      "outputs": [
        {
          "output_type": "execute_result",
          "data": {
            "text/plain": [
              "1920"
            ]
          },
          "metadata": {},
          "execution_count": 168
        }
      ]
    },
    {
      "cell_type": "code",
      "source": [
        "16 * 120 * 5"
      ],
      "metadata": {
        "colab": {
          "base_uri": "https://localhost:8080/"
        },
        "id": "xhWAvvjZtonY",
        "outputId": "9af266c9-6294-48a9-af00-e77babcabc07"
      },
      "execution_count": null,
      "outputs": [
        {
          "output_type": "execute_result",
          "data": {
            "text/plain": [
              "9600"
            ]
          },
          "metadata": {},
          "execution_count": 169
        }
      ]
    },
    {
      "cell_type": "code",
      "source": [
        "all_available_logic = []\n",
        "# person left, r\n",
        "def is_logic_good(p_l, arr, p_r):\n",
        "#def is_logic_good(1, [-1, 1, 2, 4], 2):\n",
        "#def is_logic_good(1, [-1, -1, -1, -1], 2):\n",
        "#  int max;\n",
        "#  for tower_h in arr:\n",
        "  if (p_l == 1 and p_r ==1):\n",
        "    arr = \n",
        "\n",
        "  ...\n",
        "#  1 (-1, 1, 2, 4) 2\n",
        "\n",
        "  #if (p_l)\n",
        "\n",
        "length = 0\n",
        "for vh_i in vh[:2]:\n",
        "  for a_i, aph_i in enumerate(aph[:2]):\n",
        "    print(vh_i[0], aph_i, vh_i[1])\n",
        "    print(\"aph_{}\\n--------------\".format(a_i))\n",
        "    print(\"comb\")\n",
        "    for comb in combinations(aph_i, 4):\n",
        "      print(vh_i[0], comb, vh_i[1])\n",
        "      is_logic_good()\n",
        "    # print(aph_i) \n",
        "    length += 1\n"
      ],
      "metadata": {
        "colab": {
          "base_uri": "https://localhost:8080/"
        },
        "id": "Wpgo2PJ5pr8Q",
        "outputId": "81a38175-563b-4a8c-8113-efa81c896a89"
      },
      "execution_count": null,
      "outputs": [
        {
          "output_type": "stream",
          "name": "stdout",
          "text": [
            "1 [-1  1  2  3  4] 1\n",
            "aph_0\n",
            "--------------\n",
            "comb\n",
            "1 (-1, 1, 2, 3) 1\n",
            "1 (-1, 1, 2, 4) 1\n",
            "1 (-1, 1, 3, 4) 1\n",
            "1 (-1, 2, 3, 4) 1\n",
            "1 (1, 2, 3, 4) 1\n",
            "1 [-1  1  2  4  3] 1\n",
            "aph_1\n",
            "--------------\n",
            "comb\n",
            "1 (-1, 1, 2, 4) 1\n",
            "1 (-1, 1, 2, 3) 1\n",
            "1 (-1, 1, 4, 3) 1\n",
            "1 (-1, 2, 4, 3) 1\n",
            "1 (1, 2, 4, 3) 1\n",
            "1 [-1  1  2  3  4] 2\n",
            "aph_0\n",
            "--------------\n",
            "comb\n",
            "1 (-1, 1, 2, 3) 2\n",
            "1 (-1, 1, 2, 4) 2\n",
            "1 (-1, 1, 3, 4) 2\n",
            "1 (-1, 2, 3, 4) 2\n",
            "1 (1, 2, 3, 4) 2\n",
            "1 [-1  1  2  4  3] 2\n",
            "aph_1\n",
            "--------------\n",
            "comb\n",
            "1 (-1, 1, 2, 4) 2\n",
            "1 (-1, 1, 2, 3) 2\n",
            "1 (-1, 1, 4, 3) 2\n",
            "1 (-1, 2, 4, 3) 2\n",
            "1 (1, 2, 4, 3) 2\n"
          ]
        }
      ]
    },
    {
      "cell_type": "code",
      "source": [],
      "metadata": {
        "id": "6N2BUM5Wp6fI"
      },
      "execution_count": null,
      "outputs": []
    }
  ]
}